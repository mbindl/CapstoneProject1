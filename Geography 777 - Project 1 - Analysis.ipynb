{
 "cells": [
  {
   "cell_type": "markdown",
   "metadata": {},
   "source": [
    "## Setup"
   ]
  },
  {
   "cell_type": "code",
   "execution_count": 1,
   "metadata": {
    "ExecuteTime": {
     "end_time": "2020-01-23T07:53:50.024709Z",
     "start_time": "2020-01-23T07:53:50.013183Z"
    }
   },
   "outputs": [],
   "source": [
    "# Import system modules\n",
    "import arcpy\n",
    "from arcpy import env\n",
    "from arcpy.sa import *\n",
    "# Set Workspace environment\n",
    "env.workspace = \"C:/Users/mbindl/Documents/SCHOOL/Geog777/Project1/Geog777_Project_1/Geog777_Project_1.gdb\"\n",
    "# Set Overwrite option\n",
    "env.OverwriteOutput = True"
   ]
  },
  {
   "cell_type": "code",
   "execution_count": 2,
   "metadata": {},
   "outputs": [
    {
     "data": {
      "text/plain": [
       "['Well_Nitrate',\n",
       " 'CancerRate_County',\n",
       " 'CancerRate_CensusTract',\n",
       " 'hexbin',\n",
       " 'OLS']"
      ]
     },
     "execution_count": 2,
     "metadata": {},
     "output_type": "execute_result"
    }
   ],
   "source": [
    "arcpy.ListFeatureClasses()"
   ]
  },
  {
   "cell_type": "markdown",
   "metadata": {},
   "source": [
    "## Inverse Distance Weighted "
   ]
  },
  {
   "cell_type": "code",
   "execution_count": 3,
   "metadata": {
    "ExecuteTime": {
     "end_time": "2020-01-23T07:17:22.930550Z",
     "start_time": "2020-01-23T07:17:20.587858Z"
    }
   },
   "outputs": [
    {
     "name": "stdout",
     "output_type": "stream",
     "text": [
      "Enter Number:2\n"
     ]
    }
   ],
   "source": [
    "# Interpolate a series of nitrate well values \n",
    "#  saved as point features onto a rectangular \n",
    "#   raster using Inverse Distance Weighting (IDW).\n",
    "# Requirements: Spatial Analyst Extension\n",
    "\n",
    "# Set local variables\n",
    "outRaster = \"idw_nitrate\"\n",
    "inPointFeatures = \"Well_Nitrate\"\n",
    "zField = \"nitr_con\"\n",
    "cellSize = 0.01\n",
    "k = input(\"Enter Number:\")\n",
    "searchRadius = RadiusVariable('', 12)\n",
    "\n",
    "# delete output if it exists\n",
    "if arcpy.Exists(outRaster):\n",
    "    arcpy.Delete_management(outRaster)\n",
    "    \n",
    "# Execute IDW\n",
    "outIDW = Idw(inPointFeatures, zField, cellSize, k, searchRadius)\n",
    "\n",
    "# Save the output \n",
    "outIDW.save(outRaster)"
   ]
  },
  {
   "cell_type": "markdown",
   "metadata": {},
   "source": [
    "## Generate Tesselation"
   ]
  },
  {
   "cell_type": "code",
   "execution_count": 4,
   "metadata": {
    "ExecuteTime": {
     "end_time": "2020-01-23T07:36:08.629769Z",
     "start_time": "2020-01-23T07:36:05.510084Z"
    },
    "scrolled": true
   },
   "outputs": [
    {
     "ename": "AttributeError",
     "evalue": "'ToolValidator' object has no attribute 'isLicensed'",
     "output_type": "error",
     "traceback": [
      "\u001b[1;31m---------------------------------------------------------------------------\u001b[0m",
      "\u001b[1;31mAttributeError\u001b[0m                            Traceback (most recent call last)",
      "\u001b[1;32mc:\\program files\\arcgis\\pro\\Resources\\ArcToolbox\\toolboxes\\Data Management Tools.tbx#GenerateTessellation_management.InitializeParameters.py\u001b[0m in \u001b[0;36m<module>\u001b[1;34m\u001b[0m\n",
      "\u001b[1;31mAttributeError\u001b[0m: 'ToolValidator' object has no attribute 'isLicensed'"
     ]
    },
    {
     "ename": "AttributeError",
     "evalue": "'ToolValidator' object has no attribute 'isLicensed'",
     "output_type": "error",
     "traceback": [
      "\u001b[1;31m---------------------------------------------------------------------------\u001b[0m",
      "\u001b[1;31mAttributeError\u001b[0m                            Traceback (most recent call last)",
      "\u001b[1;32mc:\\program files\\arcgis\\pro\\Resources\\ArcToolbox\\toolboxes\\Data Management Tools.tbx#GenerateTessellation_management.InitializeParameters.py\u001b[0m in \u001b[0;36m<module>\u001b[1;34m\u001b[0m\n",
      "\u001b[1;31mAttributeError\u001b[0m: 'ToolValidator' object has no attribute 'isLicensed'"
     ]
    }
   ],
   "source": [
    "# Generate Tesselation\n",
    "\n",
    "# delete feature class if it already exists\n",
    "if arcpy.Exists(\"hexbin\"):\n",
    "    arcpy.Delete_management(\"hexbin\")\n",
    "\n",
    "tessellation_extent = arcpy.Extent(-10340405, 5234953, -9656979, 5992793)\n",
    "spatial_ref = arcpy.SpatialReference(3857)\n",
    "arcpy.GenerateTessellation_management(\"hexbin\",\n",
    "                                      tessellation_extent, \"HEXAGON\",\n",
    "                                      \"500 SquareMiles\", spatial_ref)\n",
    "\n",
    "# Set local variables\n",
    "inFeatures = \"hexbin\"\n",
    "fieldName1 = \"ID\"\n",
    "fieldName2 = \"CancerRate\"\n",
    "fieldName3 = \"NitrateRate\"\n",
    "fieldName4 = \"Residual\"\n",
    "fieldName5 = \"Estimated\"\n",
    "fieldName6 = \"StdResidual\"\n",
    "\n",
    "# Execute AddField twice for two new fields\n",
    "arcpy.AddField_management(inFeatures, fieldName1, \"SHORT\")\n",
    "arcpy.AddField_management(inFeatures, fieldName2, \"DOUBLE\")\n",
    "arcpy.AddField_management(inFeatures, fieldName3, \"DOUBLE\")\n",
    "arcpy.AddField_management(inFeatures, fieldName4, \"DOUBLE\")\n",
    "arcpy.AddField_management(inFeatures, fieldName5, \"DOUBLE\")\n",
    "arcpy.AddField_management(inFeatures, fieldName6, \"DOUBLE\")\n",
    "\n",
    "# create unqique integer id field for OLS to use\n",
    "updateFieldsList = ['OBJECTID', 'ID']\n",
    "with arcpy.da.UpdateCursor(inFeatures, updateFieldsList) as cursor:\n",
    "    for row in cursor:\n",
    "        row[1] = row[0]\n",
    "        cursor.updateRow(row)"
   ]
  },
  {
   "cell_type": "markdown",
   "metadata": {},
   "source": [
    "## Convert Tract or County to Raster"
   ]
  },
  {
   "cell_type": "code",
   "execution_count": 6,
   "metadata": {
    "ExecuteTime": {
     "end_time": "2020-01-23T08:05:15.054593Z",
     "start_time": "2020-01-23T08:05:11.362918Z"
    }
   },
   "outputs": [
    {
     "data": {
      "text/plain": [
       "<Result 'C:/Users/mbindl/Documents/SCHOOL/Geog777/Project1/Geog777_Project_1/Geog777_Project_1.gdb\\\\cancer_rate'>"
      ]
     },
     "execution_count": 6,
     "metadata": {},
     "output_type": "execute_result"
    }
   ],
   "source": [
    "# Delete output raster if it exists\n",
    "if arcpy.Exists(\"cancer_rate\"):\n",
    "    arcpy.Delete_management(\"cancer_rate\")\n",
    "# Set local variables\n",
    "inFeature = \"CancerRate_CensusTract\"\n",
    "outRaster = \"cancer_rate\"\n",
    "# cellSize = 0.01\n",
    "field = \"canrate\"\n",
    "\n",
    "# Execute FeatureToRaster\n",
    "arcpy.FeatureToRaster_conversion(inFeature, field, outRaster)"
   ]
  },
  {
   "cell_type": "markdown",
   "metadata": {},
   "source": [
    "## Zonal Statistics as a Table to Aggregate Nitrate IDW to Hex Bin"
   ]
  },
  {
   "cell_type": "code",
   "execution_count": 7,
   "metadata": {
    "ExecuteTime": {
     "end_time": "2020-01-23T07:55:28.608433Z",
     "start_time": "2020-01-23T07:55:26.289068Z"
    }
   },
   "outputs": [],
   "source": [
    "# ZonalStatisticsAsTable\n",
    "# Set local variables\n",
    "inZoneData = \"hexbin\"\n",
    "zoneField = \"GRID_ID\"\n",
    "inValueRaster = \"idw_nitrate\"\n",
    "outTable = \"zonalstat_nitrate\"\n",
    "\n",
    "if arcpy.Exists(outTable):\n",
    "    arcpy.Delete_management(outTable)\n",
    "    \n",
    "# Execute ZonalStatisticsAsTable\n",
    "outZSaT = ZonalStatisticsAsTable(inZoneData, zoneField, inValueRaster, \n",
    "                                 outTable, \"NODATA\", \"MEAN\")"
   ]
  },
  {
   "cell_type": "code",
   "execution_count": 8,
   "metadata": {
    "ExecuteTime": {
     "end_time": "2020-01-23T07:59:50.171730Z",
     "start_time": "2020-01-23T07:59:49.366686Z"
    }
   },
   "outputs": [],
   "source": [
    "# ZonalStatisticsAsTable\n",
    "# Set local variables\n",
    "inZoneData = \"hexbin\"\n",
    "zoneField = \"GRID_ID\"\n",
    "inValueRaster = \"cancer_rate\"\n",
    "outTable = \"zonalstat_tract_cancer\"\n",
    "\n",
    "if arcpy.Exists(\"zonalstat_tract_cancer\"):\n",
    "    arcpy.Delete_management(\"zonalstat_tract_cancer\")\n",
    "    \n",
    "# Execute ZonalStatisticsAsTable\n",
    "outZSaT = ZonalStatisticsAsTable(inZoneData, zoneField, inValueRaster, \n",
    "                                 outTable, \"NODATA\", \"MEAN\")"
   ]
  },
  {
   "cell_type": "markdown",
   "metadata": {},
   "source": [
    "## Join Table to Tesselation"
   ]
  },
  {
   "cell_type": "code",
   "execution_count": 9,
   "metadata": {},
   "outputs": [],
   "source": [
    "def fieldJoinCalc(updateFC, updateFieldsList, sourceFC, sourceFieldsList):\n",
    "    from time import strftime  \n",
    "    print (\"Started data transfer: \" + strftime(\"%Y-%m-%d %H:%M:%S\"))\n",
    "   \n",
    "    # Use list comprehension to build a dictionary from a da SearchCursor  \n",
    "    valueDict = {r[0]:(r[1:]) for r in arcpy.da.SearchCursor(sourceFC, sourceFieldsList)}  \n",
    "   \n",
    "    with arcpy.da.UpdateCursor(updateFC, updateFieldsList) as updateRows:  \n",
    "        for updateRow in updateRows:  \n",
    "            # store the Join value of the row being updated in a keyValue variable  \n",
    "            keyValue = updateRow[0]  \n",
    "            # verify that the keyValue is in the Dictionary  \n",
    "            if keyValue in valueDict:  \n",
    "                # transfer the value stored under the keyValue from the dictionary to the updated field.  \n",
    "                updateRow[1] = valueDict[keyValue][0]  \n",
    "                updateRows.updateRow(updateRow)    \n",
    "    del valueDict  \n",
    "    print (\"Finished data transfer: \" + strftime(\"%Y-%m-%d %H:%M:%S\"))"
   ]
  },
  {
   "cell_type": "markdown",
   "metadata": {},
   "source": [
    "## Transfer Zonal Stat Table Values to Hexbins"
   ]
  },
  {
   "cell_type": "code",
   "execution_count": 10,
   "metadata": {},
   "outputs": [
    {
     "name": "stdout",
     "output_type": "stream",
     "text": [
      "Started data transfer: 2020-02-29 23:41:02\n",
      "Finished data transfer: 2020-02-29 23:41:02\n",
      "The 'Nitrate Rate' field in the hexbin data has been updated\n"
     ]
    }
   ],
   "source": [
    "# transfer attributes to tesselation layer\n",
    "fieldJoinCalc('hexbin', ['GRID_ID', 'NitrateRate'], 'zonalstat_nitrate', ['GRID_ID', 'MEAN'])\n",
    "print (\"The 'Nitrate Rate' field in the hexbin data has been updated\")"
   ]
  },
  {
   "cell_type": "code",
   "execution_count": 11,
   "metadata": {},
   "outputs": [
    {
     "name": "stdout",
     "output_type": "stream",
     "text": [
      "Started data transfer: 2020-02-29 23:41:03\n",
      "Finished data transfer: 2020-02-29 23:41:03\n",
      "The 'Cancer Rate' field in the hexbin data has been updated\n"
     ]
    }
   ],
   "source": [
    "# transfer attributes to tesselation layer\n",
    "fieldJoinCalc('hexbin', ['GRID_ID', 'CancerRate'], 'zonalstat_tract_cancer', ['GRID_ID', 'MEAN'])\n",
    "print (\"The 'Cancer Rate' field in the hexbin data has been updated\")"
   ]
  },
  {
   "cell_type": "code",
   "execution_count": null,
   "metadata": {},
   "outputs": [],
   "source": []
  },
  {
   "cell_type": "markdown",
   "metadata": {},
   "source": [
    "## Ordinary Least Squares"
   ]
  },
  {
   "cell_type": "code",
   "execution_count": 12,
   "metadata": {},
   "outputs": [
    {
     "name": "stdout",
     "output_type": "stream",
     "text": [
      "Started data transfer: 2020-02-29 23:41:17\n",
      "Finished data transfer: 2020-02-29 23:41:17\n",
      "The 'Residual' field in the hexbin data has been updated\n",
      "Started data transfer: 2020-02-29 23:41:17\n",
      "Finished data transfer: 2020-02-29 23:41:17\n",
      "The 'Estimated' field in the hexbin data has been updated\n",
      "Started data transfer: 2020-02-29 23:41:17\n",
      "Finished data transfer: 2020-02-29 23:41:17\n",
      "The 'StdResidual' field in the hexbin data has been updated\n"
     ]
    }
   ],
   "source": [
    "olsCoefTab = 'olsCoefTab'\n",
    "olsDiagTab = 'olsDiagTab'\n",
    "ols = \"OLS\"\n",
    "try:\n",
    "    if arcpy.Exists(ols):\n",
    "        arcpy.Delete_management(ols)\n",
    "    if arcpy.Exists(olsCoefTab):\n",
    "        arcpy.Delete_management(olsCoefTab)\n",
    "    if arcpy.Exists(olsDiagTab):\n",
    "        arcpy.Delete_management(olsDiagTab)\n",
    "    \n",
    "    arcpy.OrdinaryLeastSquares_stats(\"hexbin\", \"ID\",ols, \n",
    "                                 \"CancerRate\",\"NitrateRate\",\n",
    "                                 olsCoefTab, olsDiagTab)\n",
    "\n",
    "    # transfer attributes to hexbin\n",
    "    fieldJoinCalc('hexbin', ['ID', 'Residual'], 'OLS', ['ID', 'Residual'])\n",
    "    print(\"The 'Residual' field in the hexbin data has been updated\")\n",
    "\n",
    "    fieldJoinCalc('hexbin', ['ID', 'Estimated'], 'OLS', ['ID', 'Estimated'])\n",
    "    print(\"The 'Estimated' field in the hexbin data has been updated\")\n",
    "\n",
    "    fieldJoinCalc('hexbin', ['ID', 'StdResidual'], 'OLS', ['ID', 'StdResid'])\n",
    "    print (\"The 'StdResidual' field in the hexbin data has been updated\")\n",
    "\n",
    "except:\n",
    "    # If an error occurred when running the tool, print out the error message.\n",
    "    print(arcpy.GetMessages())"
   ]
  },
  {
   "cell_type": "code",
   "execution_count": 13,
   "metadata": {},
   "outputs": [
    {
     "name": "stdout",
     "output_type": "stream",
     "text": [
      "Started data transfer: 2020-02-29 23:41:17\n",
      "Finished data transfer: 2020-02-29 23:41:17\n",
      "The 'Residual' field in the hexbin data has been updated\n"
     ]
    }
   ],
   "source": [
    "# transfer attributes to residual values to Layer\n",
    "fieldJoinCalc('hexbin', ['ID', 'Residual'], 'OLS', ['ID', 'Residual'])\n",
    "print (\"The 'Residual' field in the hexbin data has been updated\")"
   ]
  },
  {
   "cell_type": "code",
   "execution_count": 14,
   "metadata": {
    "scrolled": true
   },
   "outputs": [
    {
     "name": "stdout",
     "output_type": "stream",
     "text": [
      "Started data transfer: 2020-02-29 23:41:17\n",
      "Finished data transfer: 2020-02-29 23:41:17\n",
      "The 'Estimated' field in the hexbin data has been updated\n"
     ]
    }
   ],
   "source": [
    "# transfer attributes to hexbin Layer\n",
    "fieldJoinCalc('hexbin', ['ID', 'Estimated'], 'OLS', ['ID', 'Estimated'])\n",
    "print (\"The 'Estimated' field in the hexbin data has been updated\")"
   ]
  },
  {
   "cell_type": "code",
   "execution_count": 15,
   "metadata": {},
   "outputs": [
    {
     "name": "stdout",
     "output_type": "stream",
     "text": [
      "Started data transfer: 2020-02-29 23:41:17\n",
      "Finished data transfer: 2020-02-29 23:41:17\n",
      "The 'StdResidual' field in the hexbin data has been updated\n"
     ]
    }
   ],
   "source": [
    "fieldJoinCalc('hexbin', ['ID', 'StdResidual'], 'OLS', ['ID', 'StdResid'])\n",
    "print (\"The 'StdResidual' field in the hexbin data has been updated\")"
   ]
  },
  {
   "cell_type": "markdown",
   "metadata": {},
   "source": [
    "## Moran's I"
   ]
  },
  {
   "cell_type": "code",
   "execution_count": 16,
   "metadata": {},
   "outputs": [
    {
     "data": {
      "text/plain": [
       "<Result '0.752633'>"
      ]
     },
     "execution_count": 16,
     "metadata": {},
     "output_type": "execute_result"
    }
   ],
   "source": [
    "arcpy.SpatialAutocorrelation_stats(\"Well_Nitrate\", \"nitr_con\",\"NO_REPORT\")"
   ]
  },
  {
   "cell_type": "code",
   "execution_count": 17,
   "metadata": {},
   "outputs": [
    {
     "data": {
      "text/plain": [
       "<Result '0.355654'>"
      ]
     },
     "execution_count": 17,
     "metadata": {},
     "output_type": "execute_result"
    }
   ],
   "source": [
    "arcpy.SpatialAutocorrelation_stats(\"OLS\", \"Residual\",\"NO_REPORT\")"
   ]
  },
  {
   "cell_type": "code",
   "execution_count": 18,
   "metadata": {},
   "outputs": [
    {
     "data": {
      "text/plain": [
       "<Result '-0.248819'>"
      ]
     },
     "execution_count": 18,
     "metadata": {},
     "output_type": "execute_result"
    }
   ],
   "source": [
    "arcpy.SpatialAutocorrelation_stats(\"CancerRate_County\", \"canrate\",\"NO_REPORT\")"
   ]
  },
  {
   "cell_type": "code",
   "execution_count": 19,
   "metadata": {},
   "outputs": [
    {
     "data": {
      "text/plain": [
       "<Result '0.218969'>"
      ]
     },
     "execution_count": 19,
     "metadata": {},
     "output_type": "execute_result"
    }
   ],
   "source": [
    "arcpy.SpatialAutocorrelation_stats(\"CancerRate_CensusTract\", \"canrate\",\"NO_REPORT\")"
   ]
  },
  {
   "cell_type": "code",
   "execution_count": null,
   "metadata": {},
   "outputs": [],
   "source": [
    "# Analyze the growth of regional per capita incomes in US\n",
    "# Counties from 1969 -- 2002 using Ordinary Least Squares Regression\n",
    "\n",
    "# Import system modules\n",
    "import arcpy\n",
    "\n",
    "# Set property to overwrite existing outputs\n",
    "arcpy.env.overwriteOutput = True\n",
    "\n",
    "# Local variables...\n",
    "workspace = r\"C:\\Data\"\n",
    "\n",
    "try:\n",
    "    if arcpy.Exists(ols):\n",
    "        arcpy.Delete_management(ols)\n",
    "    if arcpy.Exists(olsCoefTab):\n",
    "        arcpy.Delete_management(olsCoefTab)\n",
    "    if arcpy.Exists(olsDiagTab):\n",
    "        arcpy.Delete_management(olsDiagTab)\n",
    "    \n",
    "    arcpy.OrdinaryLeastSquares_stats(\"hexbin\", \"ID\",ols, \n",
    "                                 \"CancerRate\",\"NitrateRate\",\n",
    "                                 olsCoefTab, olsDiagTab)\n",
    "\n",
    "    # Create Spatial Weights Matrix (Can be based off input or output FC)\n",
    "    # Process: Generate Spatial Weights Matrix... \n",
    "    swm = arcpy.GenerateSpatialWeightsMatrix_stats(\"USCounties.shp\", \"MYID\",\n",
    "                        \"euclidean6Neighs.swm\",\n",
    "                        \"K_NEAREST_NEIGHBORS\",\n",
    "                        \"#\", \"#\", \"#\", 6) \n",
    "                        \n",
    "\n",
    "    # Calculate Moran's I Index of Spatial Autocorrelation for \n",
    "    # OLS Residuals using a SWM File.  \n",
    "    # Process: Spatial Autocorrelation (Morans I)...      \n",
    "    moransI = arcpy.SpatialAutocorrelation_stats(\"OLS\", \"Residual\",\n",
    "                        \"NO_REPORT\", \"GET_SPATIAL_WEIGHTS_FROM_FILE\", \n",
    "                        \"EUCLIDEAN_DISTANCE\", \"NONE\", \"#\", \n",
    "                        \"euclidean6Neighs.swm\")\n",
    "\n",
    "except:\n",
    "    # If an error occurred when running the tool, print out the error message.\n",
    "    print(arcpy.GetMessages())"
   ]
  },
  {
   "cell_type": "markdown",
   "metadata": {},
   "source": [
    "## Inspect Database"
   ]
  },
  {
   "cell_type": "code",
   "execution_count": 105,
   "metadata": {
    "scrolled": true
   },
   "outputs": [
    {
     "data": {
      "text/plain": [
       "['idw_nitrate', 'cancer_rate']"
      ]
     },
     "execution_count": 105,
     "metadata": {},
     "output_type": "execute_result"
    }
   ],
   "source": [
    "arcpy.ListDatasets()"
   ]
  },
  {
   "cell_type": "code",
   "execution_count": 106,
   "metadata": {},
   "outputs": [
    {
     "data": {
      "text/plain": [
       "['Well_Nitrate',\n",
       " 'CancerRate_County',\n",
       " 'CancerRate_CensusTract',\n",
       " 'OLS',\n",
       " 'hexbin']"
      ]
     },
     "execution_count": 106,
     "metadata": {},
     "output_type": "execute_result"
    }
   ],
   "source": [
    "arcpy.ListFeatureClasses()"
   ]
  },
  {
   "cell_type": "code",
   "execution_count": 120,
   "metadata": {},
   "outputs": [
    {
     "data": {
      "text/plain": [
       "['zonalstat_nitrate', 'zonalstat_tract_cancer', 'olsCoefTab', 'olsDiagTab']"
      ]
     },
     "execution_count": 120,
     "metadata": {},
     "output_type": "execute_result"
    }
   ],
   "source": [
    "arcpy.ListTables()"
   ]
  },
  {
   "cell_type": "code",
   "execution_count": 121,
   "metadata": {},
   "outputs": [
    {
     "name": "stdout",
     "output_type": "stream",
     "text": [
      "OBJECTID is a type of OID with a length of 4\n",
      "Shape is a type of Geometry with a length of 0\n",
      "Shape_Length is a type of Double with a length of 8\n",
      "Shape_Area is a type of Double with a length of 8\n",
      "GRID_ID is a type of String with a length of 12\n",
      "ID is a type of SmallInteger with a length of 2\n",
      "CancerRate is a type of Double with a length of 8\n",
      "NitrateRate is a type of Double with a length of 8\n",
      "Residual is a type of Double with a length of 8\n",
      "Estimated is a type of Double with a length of 8\n"
     ]
    }
   ],
   "source": [
    "fields = arcpy.ListFields(\"hexbin\")\n",
    "\n",
    "for field in fields:\n",
    "    print(\"{0} is a type of {1} with a length of {2}\"\n",
    "          .format(field.name, field.type, field.length))"
   ]
  },
  {
   "cell_type": "code",
   "execution_count": 122,
   "metadata": {},
   "outputs": [
    {
     "name": "stdout",
     "output_type": "stream",
     "text": [
      "OBJECTID is a type of OID with a length of 4\n",
      "Shape is a type of Geometry with a length of 0\n",
      "ID is a type of SmallInteger with a length of 2\n",
      "CancerRate is a type of Double with a length of 8\n",
      "NitrateRate is a type of Double with a length of 8\n",
      "Shape_Length is a type of Double with a length of 8\n",
      "Shape_Area is a type of Double with a length of 8\n",
      "Estimated is a type of Double with a length of 8\n",
      "Residual is a type of Double with a length of 8\n",
      "StdResid is a type of Double with a length of 8\n"
     ]
    }
   ],
   "source": [
    "fields = arcpy.ListFields(\"OLS\")\n",
    "\n",
    "for field in fields:\n",
    "    print(\"{0} is a type of {1} with a length of {2}\"\n",
    "          .format(field.name, field.type, field.length))"
   ]
  },
  {
   "cell_type": "code",
   "execution_count": 109,
   "metadata": {},
   "outputs": [
    {
     "name": "stdout",
     "output_type": "stream",
     "text": [
      "OBJECTID is a type of OID with a length of 4\n",
      "GRID_ID is a type of String with a length of 4\n",
      "ZONE_CODE is a type of Integer with a length of 4\n",
      "COUNT is a type of Integer with a length of 4\n",
      "AREA is a type of Double with a length of 8\n",
      "MEAN is a type of Double with a length of 8\n"
     ]
    }
   ],
   "source": [
    "fields = arcpy.ListFields(\"zonalstat_nitrate\")\n",
    "\n",
    "for field in fields:\n",
    "    print(\"{0} is a type of {1} with a length of {2}\"\n",
    "          .format(field.name, field.type, field.length))"
   ]
  },
  {
   "cell_type": "code",
   "execution_count": 110,
   "metadata": {},
   "outputs": [
    {
     "name": "stdout",
     "output_type": "stream",
     "text": [
      "OBJECTID is a type of OID with a length of 4\n",
      "GRID_ID is a type of String with a length of 4\n",
      "ZONE_CODE is a type of Integer with a length of 4\n",
      "COUNT is a type of Integer with a length of 4\n",
      "AREA is a type of Double with a length of 8\n",
      "MEAN is a type of Double with a length of 8\n"
     ]
    }
   ],
   "source": [
    "fields = arcpy.ListFields(\"zonalstat_tract_cancer\")\n",
    "\n",
    "for field in fields:\n",
    "    print(\"{0} is a type of {1} with a length of {2}\"\n",
    "          .format(field.name, field.type, field.length))"
   ]
  },
  {
   "cell_type": "markdown",
   "metadata": {},
   "source": [
    "## References\n",
    "* https://pro.arcgis.com/en/pro-app/tool-reference/spatial-analyst/idw.htm\n",
    "* https://pro.arcgis.com/en/pro-app/tool-reference/data-management/generatetesellation.htm\n",
    "* https://pro.arcgis.com/en/pro-app/tool-reference/spatial-analyst/zonal-statistics-as-table.htm\n",
    "* https://pro.arcgis.com/en/pro-app/tool-reference/spatial-statistics/ordinary-least-squares.htm"
   ]
  },
  {
   "cell_type": "code",
   "execution_count": null,
   "metadata": {},
   "outputs": [],
   "source": []
  }
 ],
 "metadata": {
  "kernelspec": {
   "display_name": "Python 3",
   "language": "python",
   "name": "python3"
  },
  "language_info": {
   "codemirror_mode": {
    "name": "ipython",
    "version": 3
   },
   "file_extension": ".py",
   "mimetype": "text/x-python",
   "name": "python",
   "nbconvert_exporter": "python",
   "pygments_lexer": "ipython3",
   "version": "3.6.9"
  },
  "toc": {
   "base_numbering": 1,
   "nav_menu": {},
   "number_sections": true,
   "sideBar": true,
   "skip_h1_title": false,
   "title_cell": "Table of Contents",
   "title_sidebar": "Contents",
   "toc_cell": false,
   "toc_position": {},
   "toc_section_display": true,
   "toc_window_display": false
  },
  "varInspector": {
   "cols": {
    "lenName": 16,
    "lenType": 16,
    "lenVar": 40
   },
   "kernels_config": {
    "python": {
     "delete_cmd_postfix": "",
     "delete_cmd_prefix": "del ",
     "library": "var_list.py",
     "varRefreshCmd": "print(var_dic_list())"
    },
    "r": {
     "delete_cmd_postfix": ") ",
     "delete_cmd_prefix": "rm(",
     "library": "var_list.r",
     "varRefreshCmd": "cat(var_dic_list()) "
    }
   },
   "types_to_exclude": [
    "module",
    "function",
    "builtin_function_or_method",
    "instance",
    "_Feature"
   ],
   "window_display": false
  }
 },
 "nbformat": 4,
 "nbformat_minor": 2
}
